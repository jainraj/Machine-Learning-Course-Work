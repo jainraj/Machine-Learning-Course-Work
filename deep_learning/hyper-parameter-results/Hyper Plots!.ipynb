{
 "cells": [
  {
   "cell_type": "markdown",
   "id": "6c2e5faa",
   "metadata": {},
   "source": [
    "# Notebook to Visualise the Loss and Accuracy curves"
   ]
  },
  {
   "cell_type": "markdown",
   "id": "c3a71cec",
   "metadata": {},
   "source": [
    "## Imports and Utils"
   ]
  },
  {
   "cell_type": "code",
   "execution_count": null,
   "id": "fbed2ef6",
   "metadata": {},
   "outputs": [],
   "source": [
    "import plotly.graph_objs as go\n",
    "import pickle\n",
    "import numpy"
   ]
  },
  {
   "cell_type": "code",
   "execution_count": null,
   "id": "74e86767",
   "metadata": {},
   "outputs": [],
   "source": [
    "def plot_loss_curves(result, plt_file):\n",
    "    train_loss_curves = numpy.array(list(result['train_loss_curves'].values()))\n",
    "    test_loss_curves = numpy.array(list(result['test_loss_curves'].values()))\n",
    "    x = list(range(1, 101))  # num of epochs\n",
    "    \n",
    "    train_mean = train_loss_curves.mean(axis=0)\n",
    "    train_sem = train_loss_curves.std(axis=0) / 2  # sem = std/sqrt(4)\n",
    "    \n",
    "    test_mean = test_loss_curves.mean(axis=0)\n",
    "    test_sem = test_loss_curves.std(axis=0) / 2  # sem = std/sqrt(4)\n",
    "    \n",
    "    fig = go.Figure(\n",
    "        data=go.Scatter(\n",
    "            x=x, y=train_mean, name='Training Loss',\n",
    "            error_y=dict(type='data', array=train_sem)\n",
    "        )\n",
    "    )\n",
    "    fig.add_trace(\n",
    "        go.Scatter(\n",
    "            x=x, y=test_mean, name='Validation Loss',\n",
    "            error_y=dict(type='data', array=test_sem)\n",
    "        )\n",
    "    )\n",
    "    fig.update_layout(\n",
    "        yaxis_title='Cross Entropy Loss',\n",
    "        xaxis_title='Epoch',\n",
    "        title='Loss Curve with SEM (across CV folds)',  # + plt_file,\n",
    "        hovermode=\"x\",\n",
    "        title_xanchor='center',\n",
    "        title_x=0.5,\n",
    "    )\n",
    "    fig.update_layout(legend=dict(\n",
    "        yanchor=\"top\",\n",
    "        y=0.99,\n",
    "        xanchor=\"left\",\n",
    "        x=0.01\n",
    "    ))\n",
    "    fig.show()"
   ]
  },
  {
   "cell_type": "code",
   "execution_count": null,
   "id": "d0eaadc5",
   "metadata": {},
   "outputs": [],
   "source": [
    "def plot_acc_curves(result, plt_file):\n",
    "    train_acc_curves = numpy.array(list(result['train_acc_curves'].values()))\n",
    "    test_acc_curves = numpy.array(list(result['test_acc_curves'].values()))\n",
    "    x = list(range(1, 101))\n",
    "    \n",
    "    train_mean = train_acc_curves.mean(axis=0)\n",
    "    train_sem = test_acc_curves.std(axis=0) / 2  # sem = std/sqrt(4)\n",
    "    \n",
    "    test_mean = test_acc_curves.mean(axis=0)\n",
    "    test_sem = test_acc_curves.std(axis=0) / 2  # sem = std/sqrt(4)\n",
    "    \n",
    "    fig = go.Figure(\n",
    "        data=go.Scatter(\n",
    "            x=x, y=train_mean, name='Training Accuracy',\n",
    "            error_y=dict(type='data', array=train_sem)\n",
    "        )\n",
    "    )\n",
    "    fig.add_trace(\n",
    "        go.Scatter(\n",
    "            x=x, y=test_mean, name='Validation Accuracy',\n",
    "            error_y=dict(type='data', array=test_sem)\n",
    "        )\n",
    "    )\n",
    "    fig.update_layout(\n",
    "        yaxis_title='Accuracy',\n",
    "        xaxis_title='Epoch',\n",
    "        title='Accuracy with SEM (across CV folds)',  # + plt_file,\n",
    "        hovermode=\"x\",\n",
    "        title_xanchor='center',\n",
    "        title_x=0.5,\n",
    "    )\n",
    "    fig.update_layout(legend=dict(\n",
    "        yanchor=\"top\",\n",
    "        y=0.99,\n",
    "        xanchor=\"left\",\n",
    "        x=0.01\n",
    "    ))\n",
    "    fig.show()"
   ]
  },
  {
   "cell_type": "markdown",
   "id": "cd4a9b19",
   "metadata": {},
   "source": [
    "## Plots!"
   ]
  },
  {
   "cell_type": "code",
   "execution_count": null,
   "id": "5898d40a",
   "metadata": {
    "scrolled": false
   },
   "outputs": [],
   "source": [
    "hyper_location = '/Users/rajjain/PycharmProjects/Machine-Learning-Course-Work/deep_learning/hyper-parameter-results/'\n",
    "plot_file = 'lstm_adam_0.001_l2-0.005_200_2_ip2-act-drop-pred_relu_train-300.pkl'\n",
    "\n",
    "with open(hyper_location + plot_file, 'rb') as f:\n",
    "    result = pickle.load(f)\n",
    "\n",
    "plot_loss_curves(result, plot_file)\n",
    "\n",
    "plot_acc_curves(result, plot_file)"
   ]
  },
  {
   "cell_type": "code",
   "execution_count": null,
   "id": "a286fd81",
   "metadata": {},
   "outputs": [],
   "source": []
  }
 ],
 "metadata": {
  "kernelspec": {
   "display_name": "Python 3",
   "language": "python",
   "name": "python3"
  },
  "language_info": {
   "codemirror_mode": {
    "name": "ipython",
    "version": 3
   },
   "file_extension": ".py",
   "mimetype": "text/x-python",
   "name": "python",
   "nbconvert_exporter": "python",
   "pygments_lexer": "ipython3",
   "version": "3.8.8"
  }
 },
 "nbformat": 4,
 "nbformat_minor": 5
}
